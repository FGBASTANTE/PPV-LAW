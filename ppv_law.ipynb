{
 "cells": [
  {
   "cell_type": "markdown",
   "id": "2b0fdfb7-300c-4d5f-a9bc-af549681d2f1",
   "metadata": {},
   "source": [
    "# PPV_LAW\n",
    "Código para determinar la ley de propagación de vibraciones en el terreno a\n",
    "partir del registro en voladuras de las velocidades pico de partícula (ppv)\n",
    "con diferentes cargas y distancias.\n",
    "\n",
    "Se espera que se haya definido previamente el modelo de distancia escalada\n",
    "(s_d: Distancia/Carga^beta). Como ejemplo, y típicamente para cargas alargadas:\n",
    "beta = 1/2, y para cargas esféricas: beta = 1/3.\n",
    "\n",
    "En el fichero de entrada los valores x son los logaritmos decimales de\n",
    "las distancias escaladas (log10(s_d)); los valores y son, consecuentemente,\n",
    "los log10(ppv):  \n",
    "x\ty  \n",
    "1.76779\t0.2001  \n",
    "0.69139\t1.96096  \n",
    "1.55308\t1.06786  \n",
    "..............  \n",
    "\n",
    "Se supone modelo de ruido lognormal y ofrece, entre otros resultados, la recta\n",
    "(curva) de seguridad definido un nivel de confianza nc (nc>0.5 ->50%).\n",
    "\n",
    "Aquella se calcula tanto de de forma aproximada (recta de seguridad) como de\n",
    "forma rigurosa (intervalo de predicción) -teniendo en cuenta que los parámetros del modelo son estimados. En este caso el resultado se aproxima con una ecuación cuadrática.\n",
    "\n",
    "También calcula el intervalo de tolerancia definida la cobertura y el nivel de confianza deseado. Con el intervalo de tolerancia se \"asegura\" la cobertura deseada de la población con el nc establecido.\n",
    "\n",
    "\n",
    "(utilidad con fines docentes)"
   ]
  },
  {
   "cell_type": "markdown",
   "id": "dd905021-fdd8-4faf-9c20-6c8450d219ca",
   "metadata": {},
   "source": [
    "## Establecimiento de la ruta al directorio de trabajo (W_D) y carga de los paquetes requeridos"
   ]
  },
  {
   "cell_type": "code",
   "execution_count": null,
   "id": "05422e40-d1db-401b-932e-bce6687f4217",
   "metadata": {
    "editable": true,
    "slideshow": {
     "slide_type": ""
    },
    "tags": []
   },
   "outputs": [],
   "source": [
    "import os\n",
    "os.getcwd()     # Se comprueba la ruta de trabajo actual "
   ]
  },
  {
   "cell_type": "code",
   "execution_count": 2,
   "id": "ac225a7e-284e-4027-9dfe-86d521573c9a",
   "metadata": {
    "editable": true,
    "slideshow": {
     "slide_type": ""
    },
    "tags": []
   },
   "outputs": [],
   "source": [
    "# Introduzca la ruta al directorio de trabajo donde se guardarán los resultados (comente si no desea modificarla)\n",
    "# W_D = r'C:\\Users\\usuario\\works\\vibrations'\n",
    "# os.chdir(W_D)"
   ]
  },
  {
   "cell_type": "code",
   "execution_count": 3,
   "id": "159c6867-c92d-4980-a551-04be41bd5d74",
   "metadata": {
    "editable": true,
    "slideshow": {
     "slide_type": ""
    },
    "tags": []
   },
   "outputs": [],
   "source": [
    "# Carga de paquetes\n",
    "import numpy as np\n",
    "import pandas as pd\n",
    "import matplotlib.pyplot as plt\n",
    "import scipy.stats as st\n",
    "import scipy.special as sp"
   ]
  },
  {
   "cell_type": "markdown",
   "id": "9a9c9b5a-f68d-4022-8878-06973c8c3cd3",
   "metadata": {},
   "source": [
    "## Función principal"
   ]
  },
  {
   "cell_type": "code",
   "execution_count": 4,
   "id": "8813ff01-e533-4bcb-96d1-15cc3fb7f2d8",
   "metadata": {},
   "outputs": [],
   "source": [
    "def ppv_regress(filename, nc=0.9, cobertura=0.95, n_grid=20):\n",
    "    '''Calcula la regresión lineal de la muestra (x, y)--> (log_s_d, log_v_e),\n",
    "    los intervalos de predicción con un nivel de confianza nc (con nc>0.5) en\n",
    "    los puntos x de los datos de entrada, y en un grid de n_grid puntos).\n",
    "    Grafica y guarda los resultados, calcula la cobertura...\n",
    "    Los datos de partida y cálculos realizados en escala log10\n",
    "'''\n",
    "\n",
    "    # se evita una division entre, prácticamente, 0 cuando nc=0.5\n",
    "    if nc == 0.5:\n",
    "        nc = 0.5001\n",
    "\n",
    "    # lectura de los datos (x, y) a dataframe\n",
    "    df_xy = pd.read_csv(filename, sep=r'\\s+')\n",
    "    x = df_xy['x']\n",
    "    y = df_xy['y']\n",
    "\n",
    "    # número de datos de trabajo y grid de puntos (con n_grid puntos)\n",
    "    n = len(x)\n",
    "    x_grid = np.linspace(np.min(x), np.max(x), n_grid)\n",
    "\n",
    "    # regresión lineal, predicción, residuos y su desviación estándar\n",
    "    slope, intercept = np.polyfit(x, y, deg=1)\n",
    "    y_predict = intercept + slope*x\n",
    "    rss_y = y - y_predict\n",
    "    mse = np.sqrt(np.square(rss_y).sum()/(n-2))\n",
    "\n",
    "    # cálculos intermedios para obtener el error de predicción en cada punto\n",
    "    x_mean = np.mean(x)\n",
    "    x_gap = x-x_mean\n",
    "    ss = np.square(x_gap).sum()\n",
    "\n",
    "    # cálculo del error (en puntos x y x_grid): método aproximado y riguroso\n",
    "    # (teniendo en cuenta el error del modelo)\n",
    "    se_x_aprox = st.norm.ppf(nc, loc=0, scale=mse)\n",
    "    se_x = np.sqrt(1 + 1/n + np.square((x - x_mean))/ss) * \\\n",
    "        mse*st.t.ppf(nc, df=n-2)\n",
    "    se_x_grid = np.sqrt(1 + 1/n + np.square((x_grid - x_mean))/ss) * \\\n",
    "        mse*st.t.ppf(nc, df=n-2)\n",
    "        \n",
    "    # cálculo del intervalo de tolerancia\n",
    "    _x_tol = np.sqrt(1 / n + np.square((x - x_mean)) / ss)\n",
    "    _x_tol_grid = np.sqrt(1 / n + np.square((x_grid - x_mean)) / ss)\n",
    "    zp_d = st.norm.ppf(cobertura) / _x_tol\n",
    "    zp_d_grid = st.norm.ppf(cobertura) / _x_tol_grid\n",
    "    se_x_tol = sp.nctdtrit(n - 2, zp_d, nc, out=None) * mse * _x_tol\n",
    "    se_x_tol_grid = sp.nctdtrit(\n",
    "        n - 2, zp_d_grid, nc, out=None) * mse * _x_tol_grid\n",
    "\n",
    "    # cáculo de predicción en x con nivel de confianza nc (ambos métodos)\n",
    "    y_pred_nc_aprox = y_predict + se_x_aprox\n",
    "    y_pred_nc = y_predict + se_x\n",
    "    y_tol_nc = y_predict + se_x_tol\n",
    "    \n",
    "    # cálculo de cobertura con ambos métodos\n",
    "    cover_aprox = np.mean(y_pred_nc_aprox > y)\n",
    "    cover_pred = np.mean(y_pred_nc > y)\n",
    "    cover_tol = np.mean(y_tol_nc > y)\n",
    "    cover = (cover_aprox, cover_pred, cover_tol)\n",
    "    print('la cobertura sobre la muestra es (aprox/predicción/tolerancia): ', cover)\n",
    "\n",
    "    # se repiten los cálculos para el grid x_grid\n",
    "    y_predict_x_grid = intercept + slope*x_grid\n",
    "    y_pred_x_grid_nc_aprox = y_predict_x_grid + se_x_aprox\n",
    "    y_pred_x_grid_nc = y_predict_x_grid + se_x_grid\n",
    "    y_tol_x_grid_nc = y_predict_x_grid + se_x_tol_grid\n",
    "    \n",
    "    # ecuaciones de la recta/curva de seguridad con nivel de confianza nc\n",
    "    # ajuste aproximado\n",
    "    nc_equation_aprox = (intercept+se_x_aprox, slope)\n",
    "    # ajuste del intervalo de predicción a una ecuación de segundo grado\n",
    "    nc_equation_pred = np.polyfit(x_grid, y_pred_x_grid_nc, deg=2, full='true')\n",
    "    print('el valor del error estándar de la regresión es: ', mse)\n",
    "    print('el valor del error estándar del ajuste del intervalo de predicción a una')\n",
    "    print('         ecuación de segundo grado es: ', nc_equation_pred[1]/(n_grid-2))\n",
    "    # ajuste del intervalo de tolerancia a una ecuación de segundo grado\n",
    "    nc_equation_tol = np.polyfit(x_grid, y_tol_x_grid_nc, deg=2, full=\"true\")\n",
    "    print('el valor del error estándar del ajuste del intervalo de tolerancia a una')\n",
    "    print('         ecuación de segundo grado es: ', nc_equation_tol[1]/(n_grid-2))\n",
    "    \n",
    "    # gráfico de resultados sin florituras\n",
    "    plt.figure(0)\n",
    "    plt.plot(x, y, marker='.', linestyle='none', label='data')\n",
    "    plt.plot(x_grid, y_predict_x_grid, linestyle='solid', label='regression')\n",
    "    plt.plot(x_grid, y_pred_x_grid_nc_aprox,\n",
    "             linestyle='dashed', label='nc_aprox')\n",
    "    plt.plot(x_grid, y_pred_x_grid_nc, linestyle='solid', label='prediction')\n",
    "    plt.plot(x_grid, y_tol_x_grid_nc, linestyle=\"solid\", label=\"tolerance\")\n",
    "    plt.legend()\n",
    "    plt.xlabel('log(sd)')\n",
    "    plt.ylabel('log(ppv)')\n",
    "    plt.margins(0.05)\n",
    "\n",
    "    # guardado de resultados en los puntos x\n",
    "    df_xy['y_pred'] = y_predict\n",
    "    df_xy['y_pred_nc_aprox'] = y_pred_nc_aprox\n",
    "    df_xy['y_pred_nc'] = y_pred_nc\n",
    "    df_xy[\"y_tol_nc\"] = y_tol_nc\n",
    "    \n",
    "    # guardado de resultados en los puntos x_grid\n",
    "    df_x_grid = pd.DataFrame({'x': x_grid})\n",
    "    df_x_grid['y_pred'] = y_predict_x_grid\n",
    "    df_x_grid['y_pred_nc_aprox'] = y_pred_x_grid_nc_aprox\n",
    "    df_x_grid['y_pred_nc'] = y_pred_x_grid_nc\n",
    "    df_x_grid[\"y_tol_nc\"] = y_tol_x_grid_nc\n",
    "    \n",
    "    return intercept, slope, df_xy, df_x_grid, nc_equation_pred, nc_equation_aprox, nc_equation_tol"
   ]
  },
  {
   "cell_type": "code",
   "execution_count": null,
   "id": "7e0d838a-613f-4a42-a227-9e972aaf0902",
   "metadata": {},
   "outputs": [],
   "source": [
    "# Se ejecuta la función\n",
    "data_ppv_v = \"data_ppv_vertical.txt\"\n",
    "results = ppv_regress(data_ppv_v, nc=0.90, cobertura=0.95)"
   ]
  },
  {
   "cell_type": "markdown",
   "id": "a37e8987-f048-4595-957e-f22b1c47cc02",
   "metadata": {},
   "source": [
    "## Valores de y en el grid: la mediana y con un nivel de confianza nc"
   ]
  },
  {
   "cell_type": "code",
   "execution_count": null,
   "id": "a780c24c-6940-42ff-9fe6-c741dfdf8cd5",
   "metadata": {},
   "outputs": [],
   "source": [
    "print(results[3])"
   ]
  },
  {
   "cell_type": "markdown",
   "id": "16d9934a-f31f-44ba-8a10-afd84d176de4",
   "metadata": {},
   "source": [
    "## Coeficientes de la ecuación para un nivel de confianza nc"
   ]
  },
  {
   "cell_type": "code",
   "execution_count": null,
   "id": "c3ceb0a4-535a-4a11-9412-470f95deac32",
   "metadata": {},
   "outputs": [],
   "source": [
    "# solución aproximada\n",
    "print(' sol. aprox. coeficientes de la ecuación de primer grado (a+bx): ', results[5])"
   ]
  },
  {
   "cell_type": "code",
   "execution_count": null,
   "id": "f92bda8e-9bcf-4e27-b2ee-b0460d10e53d",
   "metadata": {},
   "outputs": [],
   "source": [
    "# solución intervalo de predicción\n",
    "print(' sol. int. predicción coeficientes de la ecuación de segundo grado (a+bx+cx^2): ', np.flip(results[4][0]))"
   ]
  },
  {
   "cell_type": "code",
   "execution_count": null,
   "id": "f298960b",
   "metadata": {},
   "outputs": [],
   "source": [
    "# solución intervalo de tolerancia\n",
    "print(' sol. int. tolerancia coeficientes de la ecuación de segundo grado (a+bx+cx^2): ', np.flip(results[6][0]))"
   ]
  },
  {
   "cell_type": "markdown",
   "id": "5497046c-c35d-4266-ae43-9e809767c4a8",
   "metadata": {},
   "source": [
    "## Función auxiliar para crear una tabla de carga operante frente a distancia a partir de los resultados de la función ppv_regress"
   ]
  },
  {
   "cell_type": "code",
   "execution_count": 10,
   "id": "dfbe8d94-b02f-4262-acaa-5d00d1802c7f",
   "metadata": {},
   "outputs": [],
   "source": [
    "def cargas_sd(nc_equation_pred, nc_eq_aprox, nc_equation_tol, d_grid=range(40, 200), ppvumb=40, beta=0.5):\n",
    "    ''' Cálculo de las cargas máximas operantes (vg. en Q kg) en función de las\n",
    "    distancias (d_grid, vg. D en m) definido un valor umbral de la ppv\n",
    "    (vg. mm/s) y el valor de beta de la ley de escala empleada:\n",
    "    s_d: Distancia/Carga^beta.\n",
    "    Se emplean el modelo riguroso y el aproximado\n",
    "'''\n",
    "\n",
    "    # resolución de la ecuación de segundo grado para solución int. predicción\n",
    "    logppv = np.log10(ppvumb)\n",
    "    a = nc_equation_pred[0]\n",
    "    b = nc_equation_pred[1]\n",
    "    c = nc_equation_pred[2]-logppv\n",
    "    # raíz menor\n",
    "    logsd_pred = (-b - np.sqrt((b * b) - 4 * a * c))/(2 * a)\n",
    "    sd = 10**logsd_pred\n",
    "    # cálculo de las cargas\n",
    "    cargas_prediccion = np.power(d_grid/sd, 1/beta)\n",
    "\n",
    "    # cálculo de las cargas para solución aproximada\n",
    "    logsd_aprox = (-nc_eq_aprox[0]+logppv)/nc_eq_aprox[1]\n",
    "    sd_aprox = 10**logsd_aprox\n",
    "    carga_aprox = np.power(d_grid/sd_aprox, 1/beta)\n",
    "\n",
    "    # resolución de la ecuación de segundo grado para solución con int. de tolerancia\n",
    "    a = nc_equation_tol[0]\n",
    "    b = nc_equation_tol[1]\n",
    "    c = nc_equation_tol[2] - logppv\n",
    "    # raíz menor\n",
    "    logsd_tol = (-b - np.sqrt((b * b) - 4 * a * c)) / (2 * a)\n",
    "    sd_tol = 10**logsd_tol\n",
    "    # cálculo de las cargas para la solución con intervalo de tolerancia\n",
    "    cargas_tolerancia = np.power(d_grid / sd_tol, 1 / beta)\n",
    "\n",
    "    # gráfico de resultados\n",
    "    plt.figure(1)\n",
    "    plt.plot(d_grid, cargas_prediccion, linestyle='solid', label='Qpred vs D')\n",
    "    plt.plot(d_grid, carga_aprox, linestyle='dashed', label='Qaprox vs D')\n",
    "    plt.plot(d_grid, cargas_tolerancia, linestyle=\"solid\", label=\"Qtol vs D\")\n",
    "    plt.legend()\n",
    "    plt.xlabel('Distancia (D m)')\n",
    "    plt.ylabel('Carga (Q kg)')\n",
    "    plt.margins(0.05)\n",
    "\n",
    "    # se almacenan los resultados en un dataframe\n",
    "    df_QvsD = pd.DataFrame({'D': d_grid})\n",
    "    df_QvsD['Q'] = cargas_prediccion\n",
    "    df_QvsD['Qaprox'] = carga_aprox\n",
    "    df_QvsD[\"Qtolerancia\"] = cargas_tolerancia\n",
    "\n",
    "    return df_QvsD, logsd_pred, logsd_tol"
   ]
  },
  {
   "cell_type": "markdown",
   "id": "21d51be8-3d5d-4d05-8f16-1d97f934b15d",
   "metadata": {},
   "source": [
    "## Se definen la velocidad umbral, el rango de distancias y el valor de beta del modelo"
   ]
  },
  {
   "cell_type": "code",
   "execution_count": 11,
   "id": "a14e27f4-d840-437e-aefc-487cdc0dcdaf",
   "metadata": {},
   "outputs": [],
   "source": [
    "# ejemplo con velocidad umbral de 40 mm/s, rango de distancias emtre: 50m y 250m y ley de escala cuadrática\n",
    "ppvumb = 40\n",
    "dgrid = np.linspace(50, 250, 20)\n",
    "beta = 0.5"
   ]
  },
  {
   "cell_type": "markdown",
   "id": "56951b56-181f-4070-b088-f349b880552c",
   "metadata": {},
   "source": [
    "# Se ejecuta la función para obtener Q frente D y el log10(sd) correspondiente"
   ]
  },
  {
   "cell_type": "code",
   "execution_count": null,
   "id": "bc7220e6-cd85-4acf-a8b7-959cc4753ef8",
   "metadata": {},
   "outputs": [],
   "source": [
    "tabla_Q_D, log_sd_pred, log_sd_tol = cargas_sd(results[4][0], results[5], results[6][0], dgrid, ppvumb, beta)"
   ]
  },
  {
   "cell_type": "code",
   "execution_count": null,
   "id": "d46b55a0-ac54-4844-901f-7be6ee358920",
   "metadata": {},
   "outputs": [],
   "source": [
    "print(tabla_Q_D)"
   ]
  },
  {
   "cell_type": "code",
   "execution_count": null,
   "id": "178414e1-a0fa-4c18-b612-81c6df7fc653",
   "metadata": {},
   "outputs": [],
   "source": [
    "print('el valor del log10(sd) predicción/tolerancia es = ', log_sd_pred, log_sd_tol)"
   ]
  },
  {
   "cell_type": "markdown",
   "id": "e8fa27bf-b61d-4535-9f9a-f3f60f8a3969",
   "metadata": {},
   "source": [
    "## Tenga en cuenta que log10(sd) debe estar en el rango de los datos (x)"
   ]
  },
  {
   "cell_type": "code",
   "execution_count": null,
   "id": "eb722755-f2d5-4d33-90eb-fbc23aa6f24f",
   "metadata": {},
   "outputs": [],
   "source": [
    "df = (results[3])\n",
    "print('el valor de log10(sd) de los datos varía entre ', df['x'][0], 'y ', df.at[df.index[-1], \"x\"])"
   ]
  }
 ],
 "metadata": {
  "kernelspec": {
   "display_name": "workings",
   "language": "python",
   "name": "python3"
  },
  "language_info": {
   "codemirror_mode": {
    "name": "ipython",
    "version": 3
   },
   "file_extension": ".py",
   "mimetype": "text/x-python",
   "name": "python",
   "nbconvert_exporter": "python",
   "pygments_lexer": "ipython3",
   "version": "3.12.2"
  }
 },
 "nbformat": 4,
 "nbformat_minor": 5
}
